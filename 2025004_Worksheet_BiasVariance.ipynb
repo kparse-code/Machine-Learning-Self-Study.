{
  "nbformat": 4,
  "nbformat_minor": 0,
  "metadata": {
    "colab": {
      "provenance": []
    },
    "kernelspec": {
      "name": "python3",
      "display_name": "Python 3"
    },
    "language_info": {
      "name": "python"
    }
  },
  "cells": [
    {
      "cell_type": "markdown",
      "source": [
        "For quick notes or queries, visit:\n",
        "- [Instagram | kparse_code](https://www.instagram.com/kparse_code/)\n",
        "- [Youtube | kparse_code](https://www.youtube.com/channel/UCGuhk1P1OA0X_7Ar2-xadEw)"
      ],
      "metadata": {
        "id": "vreTvpw3609g"
      }
    },
    {
      "cell_type": "markdown",
      "source": [
        "---\n",
        "---\n",
        "# Worksheet: Bias-Variance in Supervised Learning\n",
        "**Total Marks: 25**  \n",
        "**Level: Beginner–Intermediate**  \n",
        "**Purpose: Self-Study Practice**\n",
        "\n",
        "---\n",
        "---\n",
        "\n",
        "## Part 1: Conceptual Questions (10 points)\n",
        "\n",
        "---\n",
        "\n",
        "### Q1. [5 points] — Theory & Understanding\n",
        "**Bias-Variance trade-off** in supervised learning.  \n",
        "\n",
        "- What is **bias**?\n",
        "- What is **variance**?\n",
        "- How both affect model performance\n",
        "\n",
        "✍️ _Write your answer below:_\n"
      ],
      "metadata": {
        "id": "3E_9VByVqK7z"
      }
    },
    {
      "cell_type": "markdown",
      "source": [
        "---\n",
        "### Q2. [5 points] — Reasoning\n",
        "\n",
        "You are building a predictive model for house prices using a decision tree. When you increase the tree's depth:\n",
        "- Training error becomes very low\n",
        "- Test error increases\n",
        "\n",
        "Answer the following:\n",
        "\n",
        "- What does this suggest about **bias** and **variance**?\n",
        "- How can you adjust the model to improve performance?\n",
        "- What trade-off would you face in doing so?\n",
        "\n",
        "✍️ _Write your answer below:_\n"
      ],
      "metadata": {
        "id": "0dSrOyprBqnw"
      }
    },
    {
      "cell_type": "markdown",
      "source": [
        "---\n",
        "---\n",
        "## Part 2: Numerical Questions (10 points)\n",
        "\n",
        "---\n",
        "\n",
        "### Q3. [5 points] — Error Decomposition\n",
        "\n",
        "Given:\n",
        "- Bias² = 2.5  \n",
        "- Variance = 1.2  \n",
        "- Irreducible Error = 0.8  \n",
        "\n",
        "Use the formula:\n",
        "\n",
        "$$\n",
        "\\text{Total Error} = \\text{Bias}^2 + \\text{Variance} + \\text{Irreducible Error}\n",
        "$$\n",
        "\n",
        "✍️ _Calculate the expected test error:_\n"
      ],
      "metadata": {
        "id": "JYfAcJucBw2v"
      }
    },
    {
      "cell_type": "markdown",
      "source": [
        "---\n",
        "### Q4. [5 points] — Model Complexity vs Error\n",
        "\n",
        "You observed the following results from fitting models of varying complexity:\n",
        "\n",
        "| Model Complexity | Training Error | Test Error |\n",
        "|------------------|----------------|------------|\n",
        "| Low              | 15.0           | 18.0       |\n",
        "| Medium           | 10.0           | 11.0       |\n",
        "| High             | 3.0            | 17.0       |\n",
        "\n",
        "Answer the following:\n",
        "\n",
        "- Which model achieves a good **bias-variance balance**?  \n",
        "- Which row suggests **high bias**?  \n",
        "- Which row suggests **high variance**?\n",
        "\n",
        "✍️ _Write your analysis below:_\n"
      ],
      "metadata": {
        "id": "6HNHP9MoB31a"
      }
    },
    {
      "cell_type": "markdown",
      "source": [
        "---\n",
        "---\n",
        "## Part 3: Code/Plot Question (5 points)\n",
        "\n",
        "---\n",
        "\n",
        "### Q5. [5 points] — Visualizing the Bias-Variance Trade-off\n",
        "\n",
        "Run the following code to simulate the bias-variance trade-off using polynomial regression of increasing complexity.\n",
        "\n"
      ],
      "metadata": {
        "id": "FJk4QH0LCatg"
      }
    },
    {
      "cell_type": "code",
      "execution_count": null,
      "metadata": {
        "id": "dyLNaWMAkNcl",
        "colab": {
          "base_uri": "https://localhost:8080/",
          "height": 472
        },
        "outputId": "79394bad-9a3d-4ffe-99d9-3d63cc8e7bf8"
      },
      "outputs": [
        {
          "output_type": "display_data",
          "data": {
            "text/plain": [
              "<Figure size 640x480 with 1 Axes>"
            ],
            "image/png": "[encoded data removed]"
          },
          "metadata": {}
        }
      ],
      "source": [
        "import numpy as np\n",
        "import matplotlib.pyplot as plt\n",
        "from sklearn.linear_model import LinearRegression\n",
        "from sklearn.preprocessing import PolynomialFeatures\n",
        "from sklearn.metrics import mean_squared_error\n",
        "from sklearn.model_selection import train_test_split\n",
        "\n",
        "# Generate synthetic data\n",
        "np.random.seed(0)\n",
        "X = np.sort(np.random.rand(100, 1) * 2 - 1, axis=0)\n",
        "y = X**3 + 0.1 * np.random.randn(100, 1)  # true function + noise\n",
        "\n",
        "train_errors = []\n",
        "test_errors = []\n",
        "\n",
        "for degree in range(1, 10):\n",
        "    poly = PolynomialFeatures(degree=degree)\n",
        "    X_poly = poly.fit_transform(X)\n",
        "\n",
        "    X_train, X_test, y_train, y_test = train_test_split(X_poly, y, test_size=0.2)\n",
        "\n",
        "    model = LinearRegression()\n",
        "    model.fit(X_train, y_train)\n",
        "\n",
        "    y_train_pred = model.predict(X_train)\n",
        "    y_test_pred = model.predict(X_test)\n",
        "\n",
        "    train_errors.append(mean_squared_error(y_train, y_train_pred))\n",
        "    test_errors.append(mean_squared_error(y_test, y_test_pred))\n",
        "\n",
        "# Plot train and test error\n",
        "plt.plot(range(1, 10), train_errors, marker='o', label='Train Error')\n",
        "plt.plot(range(1, 10), test_errors, marker='s', label='Test Error')\n",
        "plt.xlabel('Polynomial Degree')\n",
        "plt.ylabel('Mean Squared Error')\n",
        "plt.title('Bias-Variance Trade-off')\n",
        "plt.legend()\n",
        "plt.grid(True)\n",
        "plt.show()\n"
      ]
    },
    {
      "cell_type": "markdown",
      "source": [
        "Use the trend in the **train and test error curves** to explain:\n",
        "\n",
        "- How does increasing polynomial degree affect bias and variance?\n",
        "- At which degree range does the model show a **good balance** between bias and variance?"
      ],
      "metadata": {
        "id": "r1CRkpTj7JWR"
      }
    },
    {
      "cell_type": "code",
      "source": [],
      "metadata": {
        "id": "2WwqTFj5CTNK"
      },
      "execution_count": null,
      "outputs": []
    },
    {
      "cell_type": "markdown",
      "source": [
        "---\n",
        "---\n",
        "## ✅ Score Tracker\n",
        "\n",
        "| Question | Points | Scored |\n",
        "|----------|--------|--------|\n",
        "| Q1       | 5      |        |\n",
        "| Q2       | 5      |        |\n",
        "| Q3       | 5      |        |\n",
        "| Q4       | 5      |        |\n",
        "| Q5       | 5      |        |\n",
        "| **Total**| **25** |        |\n",
        "\n",
        "---\n",
        "---"
      ],
      "metadata": {
        "id": "RhHcNwIw7Ou5"
      }
    },
    {
      "cell_type": "markdown",
      "source": [
        "## Notes & Disclaimer\n",
        "•\t For quick notes or queries, visit:\n",
        "- [Instagram | kparse_code](https://www.instagram.com/kparse_code/)\n",
        "- [Youtube | kparse_code](https://www.youtube.com/channel/UCGuhk1P1OA0X_7Ar2-xadEw)\n",
        "\n",
        "•\tRelated Resources:\n",
        " - Google Colab – to run Python code online without installing anything\n",
        " - StatQuest: https://www.youtube.com/@statquest/playlists\n",
        " - 3Blue1Brown: https://www.youtube.com/@3blue1brown/playlists\n",
        " - Numerical: https://www.youtube.com/@MaheshHuddar/playlists\n",
        "\n",
        "•\tWant more worksheets like this?\n",
        " Try using AI prompt like:\n",
        " - “Create a beginner-level machine learning worksheet with 2 conceptual questions(with sub-questions), 2 numerical, and 1 code-completion exercise on [topic(s)]\"\n",
        "\n",
        "•\tHow to Use This Worksheet:\n",
        "  - These worksheets are designed for self-study and concept reinforcement.\n",
        "  - Try to solve without looking up the answers first.\n",
        "  - Use a notebook or Python IDE to experiment — code is the best teacher!\n",
        "  - Feel free to modify or extend questions as your understanding grows.\n",
        "\n",
        "•\tDisclaimer:\n",
        "This worksheet is for self study & educational purposes only. Accuracy of content may vary depending on updates to libraries or definitions. Always refer to official documentation or textbooks for exam-level prep.\n",
        "\n",
        "---\n",
        "---\n"
      ],
      "metadata": {
        "id": "oa0IfoD47Prh"
      }
    },
    {
      "cell_type": "code",
      "source": [],
      "metadata": {
        "id": "4xSC6WvO7PMz"
      },
      "execution_count": null,
      "outputs": []
    }
  ]
}